{
 "cells": [
  {
   "cell_type": "code",
   "execution_count": 3,
   "id": "c8271aea-8dc7-4f8b-8b1f-d847de9e4e91",
   "metadata": {},
   "outputs": [],
   "source": [
    "import os "
   ]
  },
  {
   "cell_type": "code",
   "execution_count": 12,
   "id": "d44345e7-0779-4581-8f96-917750bbeb93",
   "metadata": {},
   "outputs": [],
   "source": [
    "def chop_file(file_path, output_path='', chunk_size = 1500): \n",
    "    chunk_size = chunk_size * 10**6\n",
    "    file_size = os.path.getsize(file_path)\n",
    "    q, _ = divmod(file_size, chunk_size)\n",
    "    chunk_number = q + 1 \n",
    "    if output_path == '':\n",
    "        output_path = file_path\n",
    "    \n",
    "    file_content = bytes(open(file_path, 'rb').read())\n",
    "    for i in range(chunk_number): \n",
    "        if i != chunk_number-1: \n",
    "            with open(output_path + f\"_part{i+1}\", 'wb+') as f: \n",
    "                f.write(file_content[chunk_size*i:chunk_size*(i+1)])\n",
    "        else:\n",
    "            with open(output_path + f\"_part{i+1}\", 'wb+') as f: \n",
    "                f.write(file_content[chunk_size*i:])\n",
    "\n"
   ]
  },
  {
   "cell_type": "code",
   "execution_count": 14,
   "id": "e97915f8-b988-43e7-8374-1f97bafeffb7",
   "metadata": {},
   "outputs": [],
   "source": [
    "file_path = \"./1d13qsdamodel-00001-of-00002.safetensors\"\n",
    "\n",
    "chop_file(file_path)"
   ]
  },
  {
   "cell_type": "code",
   "execution_count": 44,
   "id": "512bff03-2115-46b7-b3ef-29f88673e03f",
   "metadata": {},
   "outputs": [],
   "source": [
    "def rebuild_file(org_filename, dir_path='./'): \n",
    "    file_list = os.listdir(dir_path)\n",
    "    chunk_list = []\n",
    "    chunk_order = [] \n",
    "    \n",
    "    for fname in file_list:\n",
    "        if (os.path.isfile(os.path.join(dir_path,fname)) and\n",
    "                org_filename in fname and \\\n",
    "                fname[-1].isdigit()\n",
    "           ):\n",
    "            chunk_list.append(fname)\n",
    "            chunk_order.append(int(fname[-1]))\n",
    "    sorted_chunks = [i for i,_ in sorted(zip(chunk_list, chunk_order))]\n",
    "    print(sorted_chunks)\n",
    "    with open(os.path.join(dir_path,f\"rebuilt_{org_filename}\"), 'wb') as f:\n",
    "        pass\n",
    "    for f in sorted_chunks: \n",
    "        with open(os.path.join(dir_path,f), 'rb') as f: \n",
    "            tmp_chunk = bytes(f.read())\n",
    "        with open(os.path.join(dir_path,f\"rebuilt_{org_filename}\"), 'ab') as f:\n",
    "            f.write(tmp_chunk)\n",
    "    print(\"Rebuilding file is was successful!\") \n",
    "            \n",
    "            \n"
   ]
  },
  {
   "cell_type": "code",
   "execution_count": 45,
   "id": "4f2f8df1-9498-403b-91bd-46acb54e9d1d",
   "metadata": {},
   "outputs": [
    {
     "name": "stdout",
     "output_type": "stream",
     "text": [
      "['model-00001-of-00002.safetensors_0', 'model-00001-of-00002.safetensors_1', 'model-00001-of-00002.safetensors_2', 'model-00001-of-00002.safetensors_3', 'model-00001-of-00002.safetensors_4', 'model-00001-of-00002.safetensors_5', 'model-00001-of-00002.safetensors_6']\n",
      "Rebuilding file is was successful!\n"
     ]
    }
   ],
   "source": [
    "org_filename = \"model-00001-of-00002.safetensors\"\n",
    "\n",
    "rebuild_file(org_filename)"
   ]
  },
  {
   "cell_type": "code",
   "execution_count": 46,
   "id": "8927e9e7-9aa3-419d-b2c0-0b8e7eb07882",
   "metadata": {},
   "outputs": [],
   "source": [
    "import sys\n",
    "import hashlib\n",
    "\n",
    "\n",
    "def hashfile(file):\n",
    "\n",
    "\t# A arbitrary (but fixed) buffer \n",
    "\t# size (change accordingly)\n",
    "\t# 65536 = 65536 bytes = 64 kilobytes \n",
    "\tBUF_SIZE = 65536\n",
    "\n",
    "\t# Initializing the sha256() method\n",
    "\tsha256 = hashlib.sha256()\n",
    "\n",
    "\t# Opening the file provided as\n",
    "\t# the first commandline argument\n",
    "\twith open(file, 'rb') as f:\n",
    "\t\t\n",
    "\t\twhile True:\n",
    "\t\t\t\n",
    "\t\t\t# reading data = BUF_SIZE from\n",
    "\t\t\t# the file and saving it in a\n",
    "\t\t\t# variable\n",
    "\t\t\tdata = f.read(BUF_SIZE)\n",
    "\n",
    "\t\t\t# True if eof = 1\n",
    "\t\t\tif not data:\n",
    "\t\t\t\tbreak\n",
    "\t\n",
    "\t\t\t# Passing that data to that sh256 hash\n",
    "\t\t\t# function (updating the function with\n",
    "\t\t\t# that data)\n",
    "\t\t\tsha256.update(data)\n",
    "\n",
    "\t\n",
    "\t# sha256.hexdigest() hashes all the input\n",
    "\t# data passed to the sha256() via sha256.update()\n",
    "\t# Acts as a finalize method, after which\n",
    "\t# all the input data gets hashed hexdigest()\n",
    "\t# hashes the data, and returns the output\n",
    "\t# in hexadecimal format\n",
    "\treturn sha256.hexdigest()\n",
    "\n"
   ]
  },
  {
   "cell_type": "code",
   "execution_count": 50,
   "id": "89dfeaff-5ff8-4e1d-a3e0-17896f07cf08",
   "metadata": {},
   "outputs": [
    {
     "name": "stdout",
     "output_type": "stream",
     "text": [
      "Both files are same\n",
      "Hash: 4ec71fd53e99766de38f24753b30c9e8942630e9e576a1ba27b0ec531e87be41\n"
     ]
    }
   ],
   "source": [
    "# Calling hashfile() function to obtain hashes\n",
    "# of the files, and saving the result\n",
    "# in a variable\\\n",
    "\n",
    "f1_hash = hashfile(f\"./{org_filename}\")\n",
    "f2_hash = hashfile(f\"./rebuilt_{org_filename}\")\n",
    "\n",
    "# Doing primitive string comparison to \n",
    "# check whether the two hashes match or not\n",
    "if f1_hash == f2_hash:\n",
    "\tprint(\"Both files are same\")\n",
    "\tprint(f\"Hash: {f1_hash}\")\n",
    "\n",
    "else:\n",
    "\tprint(\"Files are different!\")\n",
    "\tprint(f\"Hash of File 1: {f1_hash}\")\n",
    "\tprint(f\"Hash of File 2: {f2_hash}\")\n"
   ]
  },
  {
   "cell_type": "code",
   "execution_count": null,
   "id": "b1b2a2d7-13eb-4313-9a9f-0db48be15f4b",
   "metadata": {},
   "outputs": [],
   "source": []
  }
 ],
 "metadata": {
  "kernelspec": {
   "display_name": "Python 3 (ipykernel)",
   "language": "python",
   "name": "python3"
  },
  "language_info": {
   "codemirror_mode": {
    "name": "ipython",
    "version": 3
   },
   "file_extension": ".py",
   "mimetype": "text/x-python",
   "name": "python",
   "nbconvert_exporter": "python",
   "pygments_lexer": "ipython3",
   "version": "3.10.13"
  }
 },
 "nbformat": 4,
 "nbformat_minor": 5
}
